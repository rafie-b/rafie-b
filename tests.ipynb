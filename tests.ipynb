{
  "cells": [
    {
      "cell_type": "markdown",
      "metadata": {
        "id": "view-in-github",
        "colab_type": "text"
      },
      "source": [
        "<a href=\"https://colab.research.google.com/github/rafie-b/rafie-b/blob/main/tests.ipynb\" target=\"_parent\"><img src=\"https://colab.research.google.com/assets/colab-badge.svg\" alt=\"Open In Colab\"/></a>"
      ]
    },
    {
      "cell_type": "code",
      "execution_count": null,
      "metadata": {
        "colab": {
          "base_uri": "https://localhost:8080/"
        },
        "id": "yuyNBxdCOKTf",
        "outputId": "f0c15ae0-917c-4657-c600-26880317a05a"
      },
      "outputs": [
        {
          "name": "stdout",
          "output_type": "stream",
          "text": [
            "This is Rafinha reaching out and holding.\n"
          ]
        }
      ],
      "source": [
        "print (\"This is Rafinha reaching out and holding.\");\n"
      ]
    },
    {
      "cell_type": "code",
      "execution_count": 31,
      "metadata": {
        "id": "BLTplig6WFd9",
        "outputId": "edf2b25b-2422-481d-84bb-902a66f4c57c",
        "colab": {
          "base_uri": "https://localhost:8080/"
        }
      },
      "outputs": [
        {
          "output_type": "stream",
          "name": "stdout",
          "text": [
            "{'G1': {'max_bet': 100, 'avg_bet': 76, 'top_n_user_ids': ['A2', 'A3']}}\n"
          ]
        }
      ],
      "source": [
        "    # Example input DataFrame\n",
        "df = pd.DataFrame({\n",
        "    'user_id': ['A1', 'A2', 'A3', 'A4', 'A5', 'A6', 'A7'],\n",
        "    'game_id': ['G1', 'G1', 'G1', 'G2', 'G2', 'G2', 'G3'],\n",
        "    'bet': [50, 100, 80, 150, 200, 100, 50],\n",
        "    'won': [100, 0, 60, 0, 0, 50, 100],\n",
        "    'timestamp': [1, 2, 3, 4, 5, 6, 7]\n",
        "})\n",
        "\n",
        "import pandas as pd\n",
        "\n",
        "def aggregate_game_data(df, n):\n",
        "    # Create an empty dictionary to store the aggregated data\n",
        "  result = {}\n",
        "\n",
        "\n",
        "    # Group the DataFrame by game_id\n",
        "  grouped = df.groupby('game_id')\n",
        "\n",
        "    # Iterate over the groups\n",
        "  for game_id, group_df in grouped:\n",
        "        # Compute the max and avg bet amounts\n",
        "        max_bet = group_df['bet'].max()\n",
        "        avg_bet = int(group_df['bet'].mean())\n",
        "\n",
        "        # Compute the top n user_ids by bet amount\n",
        "        sorted_df = group_df.sort_values(by='bet', ascending=False)\n",
        "        top_n = sorted_df.head(n)['user_id'].tolist()\n",
        "\n",
        "        # If there are fewer than n users, include all user_ids\n",
        "        if len(top_n) < n:\n",
        "            top_n = sorted_df['user_id'].tolist()\n",
        "\n",
        "        # Store the aggregated data for this game_id\n",
        "        result[game_id] = {\n",
        "            'max_bet': max_bet,\n",
        "            'avg_bet': avg_bet,\n",
        "            'top_n_user_ids': top_n\n",
        "            }\n",
        "        return result\n",
        "\n",
        "\n",
        "# Call the aggregate_game_data function with n=2\n",
        "result = aggregate_game_data(df, n)\n",
        "\n",
        "# Print the result dictionary\n",
        "print(result)\n",
        "\n"
      ]
    }
  ],
  "metadata": {
    "colab": {
      "provenance": [],
      "toc_visible": true,
      "include_colab_link": true
    },
    "kernelspec": {
      "display_name": "Python 3",
      "language": "python",
      "name": "python3"
    },
    "language_info": {
      "codemirror_mode": {
        "name": "ipython",
        "version": 3
      },
      "file_extension": ".py",
      "mimetype": "text/x-python",
      "name": "python",
      "nbconvert_exporter": "python",
      "pygments_lexer": "ipython3",
      "version": "3.11.1"
    },
    "vscode": {
      "interpreter": {
        "hash": "abb8c3a67b491bebc238cd7cb0149d27c9bd15c6c8b55ea35b601daa6604089f"
      }
    }
  },
  "nbformat": 4,
  "nbformat_minor": 0
}