{
  "cells": [
    {
      "cell_type": "markdown",
      "metadata": {
        "colab_type": "text",
        "id": "view-in-github"
      },
      "source": [
        "<a href=\"https://colab.research.google.com/github/rafie-b/rafie-b/blob/main/Q4_gamescrape.ipynb\" target=\"_parent\"><img src=\"https://colab.research.google.com/assets/colab-badge.svg\" alt=\"Open In Colab\"/></a>"
      ]
    },
    {
      "cell_type": "code",
      "execution_count": 6,
      "metadata": {
        "colab": {
          "base_uri": "https://localhost:8080/"
        },
        "id": "siMjopRWbHeg",
        "outputId": "f61fb42f-9094-46d2-b5e4-3815949ab623"
      },
      "outputs": [
        {
          "name": "stdout",
          "output_type": "stream",
          "text": [
            "Empty DataFrame\n",
            "Columns: [Game, Software, Release Date, RTP, Max Win, Volatility, Features]\n",
            "Index: []\n"
          ]
        }
      ],
      "source": [
        "# This is a scratch for scraping data into a slot ranking website. It was made based in a test for Jr Data Enginer role.\n",
        "\n",
        "# Importing libraries\n",
        "import requests\n",
        "from bs4 import BeautifulSoup\n",
        "import pandas as pd\n",
        "import csv\n",
        "\n",
        "# Defining the function\n",
        "def find_basic_info(url):\n",
        "  # Sending a request to the url and getting the html content\n",
        "  response = requests.get(url)\n",
        "  content = response.content\n",
        "\n",
        "  # Parsing the html content using BeautifulSoup\n",
        "  soup = BeautifulSoup(content, \"html.parser\")\n",
        "\n",
        "  # Finding all the items in the best slot games list\n",
        "  items = soup.find_all(\"div\", class_=\"item\")\n",
        "\n",
        "  # Creating empty lists to store the basic information of each item\n",
        "  game_names = []\n",
        "  software_names = []\n",
        "  release_dates = []\n",
        "  rtps = []\n",
        "  max_wins = []\n",
        "  volatilities = []\n",
        "  features = []\n",
        "\n",
        "  # Looping through each item and extracting the basic information\n",
        "  for item in items:\n",
        "    # Finding and appending the game name\n",
        "    game_name = item.find(\"h3\", class_=\"title\").text.strip()\n",
        "    game_names.append(game_name)\n",
        "\n",
        "    # Finding and appending the software name\n",
        "    software_name = item.find(\"span\", class_=\"provider\").text.strip()\n",
        "    software_names.append(software_name)\n",
        "\n",
        "    # Finding and appending the release date\n",
        "    release_date = item.find(\"span\", class_=\"date\").text.strip()\n",
        "    release_dates.append(release_date)\n",
        "\n",
        "    # Finding and appending the RTP\n",
        "    rtp = item.find(\"span\", class_=\"rtp\").text.strip()\n",
        "    rtps.append(rtp)\n",
        "\n",
        "    # Finding and appending the max win\n",
        "    max_win = item.find(\"span\", class_=\"maxwin\").text.strip()\n",
        "    max_wins.append(max_win)\n",
        "\n",
        "    # Finding and appending the volatility\n",
        "    volatility = item.find(\"span\", class_=\"volatility\").text.strip()\n",
        "    volatilities.append(volatility)\n",
        "\n",
        "    # Finding and appending the features\n",
        "    feature_list = item.find_all(\"li\")\n",
        "    feature_text = \", \".join([feature.text.strip() for feature in feature_list])\n",
        "    features.append(feature_text)\n",
        "\n",
        "  \n",
        "  # Creating a pandas dataframe with all the lists as columns \n",
        "  df = pd.DataFrame({\"Game\": game_names,\n",
        "                     \"Software\": software_names,\n",
        "                     \"Release Date\": release_dates,\n",
        "                     \"RTP\": rtps,\n",
        "                     \"Max Win\": max_wins,\n",
        "                     \"Volatility\": volatilities,\n",
        "                     \"Features\": features})\n",
        "\n",
        "  \n",
        "  # Saving the dataframe as a CSV file \n",
        "  df.to_csv(\"basic_info.csv\", index=False)\n",
        "\n",
        "  \n",
        "  # Printing out some sample rows of the dataframe \n",
        "  print(df.head())\n",
        "\n",
        "# Calling the function with your url \n",
        "find_basic_info(\"https://clashofslots.com/best-online-slots/\")"
      ]
    }
  ],
  "metadata": {
    "colab": {
      "authorship_tag": "ABX9TyP+r+cFsOFCbSVsPMFnT9jI",
      "include_colab_link": true,
      "mount_file_id": "1U4ARpRLUCgbbuWLe2wNm1oXIxKvgDZph",
      "provenance": []
    },
    "kernelspec": {
      "display_name": "Python 3",
      "name": "python3"
    },
    "language_info": {
      "name": "python"
    }
  },
  "nbformat": 4,
  "nbformat_minor": 0
}
