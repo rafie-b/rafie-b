{
  "nbformat": 4,
  "nbformat_minor": 0,
  "metadata": {
    "colab": {
      "provenance": [],
      "mount_file_id": "16_ufY2RVLb30eVOZsry-LmZc4MNRI2Jv",
      "authorship_tag": "ABX9TyMwWafmBW6inj2bY9YpZBjk",
      "include_colab_link": true
    },
    "kernelspec": {
      "name": "python3",
      "display_name": "Python 3"
    },
    "language_info": {
      "name": "python"
    }
  },
  "cells": [
    {
      "cell_type": "markdown",
      "metadata": {
        "id": "view-in-github",
        "colab_type": "text"
      },
      "source": [
        "<a href=\"https://colab.research.google.com/github/rafie-b/rafie-b/blob/main/Q4_gamescrape.ipynb\" target=\"_parent\"><img src=\"https://colab.research.google.com/assets/colab-badge.svg\" alt=\"Open In Colab\"/></a>"
      ]
    },
    {
      "cell_type": "code",
      "execution_count": null,
      "metadata": {
        "colab": {
          "base_uri": "https://localhost:8080/"
        },
        "id": "PPdnDuJoTx5_",
        "outputId": "5bc4ba75-7179-4edd-e0dd-db7393a05c3d"
      },
      "outputs": [
        {
          "output_type": "stream",
          "name": "stdout",
          "text": [
            "<_csv.reader object at 0x7fed3b4ba740>\n"
          ]
        }
      ],
      "source": [
        "import requests\n",
        "from bs4 import BeautifulSoup\n",
        "import csv\n",
        "\n",
        "def scrape_game_data():\n",
        "    # Send a GET request to the webpage\n",
        "    response = requests.get(\"https://clashofslots.com/best-online-slots/\")\n",
        "    \n",
        "    # Create a BeautifulSoup object\n",
        "    soup = BeautifulSoup(response.content, \"html.parser\")\n",
        "    \n",
        "    # Find the table containing the game data\n",
        "    table = soup.find(\"table\", class_=\"wp-list-table widefat striped\")\n",
        "    \n",
        "    # Find all rows in the table except the header row\n",
        "    rows = table.find_all(\"tr\")[1:]\n",
        "    \n",
        "    # Create a list to store the game data\n",
        "    games = []\n",
        "    \n",
        "    # Loop through each row and extract the data\n",
        "    for row in rows:\n",
        "        # Extract the data from the columns\n",
        "        columns = row.find_all(\"td\")\n",
        "        software = columns[0].text.strip()\n",
        "        release_date = columns[1].text.strip()\n",
        "        rtp = float(columns[2].text.strip())\n",
        "        max_win = int(columns[3].text.strip().replace(\",\", \"\"))\n",
        "        volatility = columns[4].text.strip()\n",
        "        features = columns[5].text.strip()\n",
        "        \n",
        "        # Add the data to the games list\n",
        "        games.append({\n",
        "            \"Software provider\": software,\n",
        "            \"Release Date\": release_date,\n",
        "            \"RTP\": rtp,\n",
        "            \"Max Win\": max_win,\n",
        "            \"Volatility\": volatility,\n",
        "            \"Features\": features\n",
        "        })\n",
        "    \n",
        "    # Write the game data to a CSV file\n",
        "    with open(\"game_data.csv\", \"w\", newline=\"\") as csvfile:\n",
        "        fieldnames = [\"Software provider\", \"Release Date\", \"RTP\", \"Max Win\", \"Volatility\", \"Features\"]\n",
        "        writer = csv.DictWriter(csvfile, fieldnames=fieldnames)\n",
        "        \n",
        "        writer.writeheader()\n",
        "        for game in games:\n",
        "            writer.writerow(game)\n",
        "\n",
        "# Display the contents of the CSV file\n",
        "print(csv.reader(\"game_data.csv\"));\n"
      ]
    }
  ]
}