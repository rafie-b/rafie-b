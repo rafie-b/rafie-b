{
  "cells": [
    {
      "cell_type": "markdown",
      "metadata": {
        "id": "view-in-github",
        "colab_type": "text"
      },
      "source": [
        "<a href=\"https://colab.research.google.com/github/rafie-b/rafie-b/blob/main/caletatest_Q2.ipynb\" target=\"_parent\"><img src=\"https://colab.research.google.com/assets/colab-badge.svg\" alt=\"Open In Colab\"/></a>"
      ]
    },
    {
      "cell_type": "code",
      "source": [
        "import pandas as pd\n",
        "\n",
        "# Example DataFrame\n",
        "df = pd.DataFrame({\n",
        "    \"user_id\": [\"A1\", \"A1\", \"A2\", \"A2\", \"A3\", \"A4\", \"A4\", \"A5\", \"A5\", \"A5\", \"A2\"],\n",
        "    \"game_id\": [\"G1\", \"G1\", \"G1\", \"G1\", \"G1\", \"G2\", \"G2\", \"G2\", \"G2\", \"G2\", \"G3\"],\n",
        "    \"bet\": [50, 100, 50, 75, 25, 10, 20, 30, 40, 50, 200],\n",
        "    \"won\": [50, 0, 0, 75, 0, 15, 0, 0, 0, 100, 300],\n",
        "    \"timestamp\": [\"2021-01-01\", \"2021-01-02\", \"2021-01-03\", \"2021-01-04\", \"2021-01-05\",\n",
        "                  \"2021-02-01\", \"2021-02-02\", \"2021-02-03\", \"2021-02-04\", \"2021-02-05\", \"2021-02-05\"]\n",
        "})\n",
        "\n",
        "def aggregate_game_data(df: pd.DataFrame, n: int) -> dict:\n",
        "    # create an empty dictionary to store game data\n",
        "    game_data = {}\n",
        "    # loop over unique game IDs\n",
        "    for game_id in df['game_id'].unique():\n",
        "        # filter the DataFrame to only include data for the current game_id\n",
        "        game_df = df[df['game_id'] == game_id]\n",
        "        # calculate the max bet per user_id\n",
        "        max_bet_per_user = game_df.groupby('user_id')['bet'].max()\n",
        "        # calculate the average bet per user_id and round down to the nearest integer\n",
        "        avg_bet_per_user = game_df.groupby('user_id')['bet'].mean().astype(int)\n",
        "        # get the top n user_ids by bet sum\n",
        "        top_n_user_ids = game_df.groupby('user_id')['bet'].sum().nlargest(n).index.tolist()\n",
        "        # if n is greater than the number of unique user_ids, return all user_ids\n",
        "        if n > len(game_df['user_id'].unique()):\n",
        "            top_n_user_ids = game_df.groupby('user_id')['bet'].sum().nlargest(len(game_df['user_id'].unique())).index.tolist()\n",
        "        # add the game data to the dictionary\n",
        "        game_data[game_id] = {\n",
        "            \"max_bet\": max_bet_per_user.max(),\n",
        "            \"avg_bet\": avg_bet_per_user.min(),\n",
        "            \"top_n_user_ids\": top_n_user_ids\n",
        "        }\n",
        "    return game_data\n",
        "\n",
        "# assuming you have already loaded your DataFrame \"df\"\n",
        "n = 5 # the value of n, as per the prompt\n",
        "game_data = aggregate_game_data(df, n)\n",
        "print(game_data)"
      ],
      "metadata": {
        "colab": {
          "base_uri": "https://localhost:8080/"
        },
        "id": "x5cGIWos6wSd",
        "outputId": "6e329b84-eb3b-42a1-a958-35f914a6c8cc"
      },
      "execution_count": 3,
      "outputs": [
        {
          "output_type": "stream",
          "name": "stdout",
          "text": [
            "{'G1': {'max_bet': 100, 'avg_bet': 25, 'top_n_user_ids': ['A1', 'A2', 'A3']}, 'G2': {'max_bet': 50, 'avg_bet': 15, 'top_n_user_ids': ['A5', 'A4']}, 'G3': {'max_bet': 200, 'avg_bet': 200, 'top_n_user_ids': ['A2']}}\n"
          ]
        }
      ]
    }
  ],
  "metadata": {
    "colab": {
      "provenance": [],
      "include_colab_link": true
    },
    "kernelspec": {
      "display_name": "Python 3",
      "language": "python",
      "name": "python3"
    },
    "language_info": {
      "codemirror_mode": {
        "name": "ipython",
        "version": 3
      },
      "file_extension": ".py",
      "mimetype": "text/x-python",
      "name": "python",
      "nbconvert_exporter": "python",
      "pygments_lexer": "ipython3",
      "version": "3.11.1"
    },
    "vscode": {
      "interpreter": {
        "hash": "abb8c3a67b491bebc238cd7cb0149d27c9bd15c6c8b55ea35b601daa6604089f"
      }
    }
  },
  "nbformat": 4,
  "nbformat_minor": 0
}